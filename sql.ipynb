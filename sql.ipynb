{
 "cells": [
  {
   "cell_type": "markdown",
   "id": "7d99afa3",
   "metadata": {},
   "source": [
    "# Import Required Libraries\n",
    "For this example, we will use the `psycopg2` library to connect to a PostgreSQL database."
   ]
  },
  {
   "cell_type": "code",
   "execution_count": 2,
   "id": "2c77552d",
   "metadata": {},
   "outputs": [
    {
     "name": "stdout",
     "output_type": "stream",
     "text": [
      "Connected to the database!\n"
     ]
    }
   ],
   "source": [
    "# Connect to PostgreSQL database\n",
    "import psycopg2\n",
    "\n",
    "conn = psycopg2.connect(\n",
    "    host=\"localhost\",\n",
    "    port=5432,\n",
    "    database=\"cs673\",\n",
    "    user=\"postgres\",\n",
    "    password=\"mysecretpassword\"\n",
    ")\n",
    "\n",
    "print(\"Connected to the database!\")\n",
    "\n",
    "conn.close()"
   ]
  },
  {
   "cell_type": "code",
   "execution_count": null,
   "id": "c1535c06",
   "metadata": {},
   "outputs": [],
   "source": []
  },
  {
   "cell_type": "markdown",
   "id": "071fcb09",
   "metadata": {},
   "source": [
    "Make sure you have `psycopg2` installed. You can install it using pip:\n"
   ]
  },
  {
   "cell_type": "code",
   "execution_count": 3,
   "id": "ca0dbc40",
   "metadata": {},
   "outputs": [
    {
     "name": "stdout",
     "output_type": "stream",
     "text": [
      "Table 'test' created successfully!\n"
     ]
    }
   ],
   "source": [
    "# Create a table named 'test' with two columns\n",
    "import psycopg2\n",
    "\n",
    "conn = psycopg2.connect(\n",
    "    host=\"localhost\",\n",
    "    port=5432,\n",
    "    database=\"cs673\",\n",
    "    user=\"postgres\",\n",
    "    password=\"mysecretpassword\"\n",
    ")\n",
    "\n",
    "cursor = conn.cursor()\n",
    "\n",
    "# Create table SQL\n",
    "create_table_sql = \"\"\"\n",
    "CREATE TABLE IF NOT EXISTS test (\n",
    "    id SERIAL PRIMARY KEY,\n",
    "    name VARCHAR(100) NOT NULL\n",
    ");\n",
    "\"\"\"\n",
    "\n",
    "cursor.execute(create_table_sql)\n",
    "conn.commit()\n",
    "\n",
    "print(\"Table 'test' created successfully!\")\n",
    "\n",
    "cursor.close()\n",
    "conn.close()\n"
   ]
  },
  {
   "cell_type": "code",
   "execution_count": 2,
   "id": "31a27f6d",
   "metadata": {},
   "outputs": [
    {
     "name": "stdout",
     "output_type": "stream",
     "text": [
      "2 rows inserted successfully!\n"
     ]
    }
   ],
   "source": [
    "# Insert 2 rows into the test table\n",
    "import psycopg2\n",
    "\n",
    "conn = psycopg2.connect(\n",
    "    host=\"localhost\",\n",
    "    port=5432,\n",
    "    database=\"cs673\",\n",
    "    user=\"postgres\",\n",
    "    password=\"mysecretpassword\"\n",
    ")\n",
    "\n",
    "cursor = conn.cursor()\n",
    "\n",
    "# Insert data into the test table\n",
    "insert_sql = \"\"\"\n",
    "INSERT INTO test (name) VALUES (%s);\n",
    "\"\"\"\n",
    "\n",
    "# Insert two rows\n",
    "cursor.execute(insert_sql, (\"John Doe\",))\n",
    "cursor.execute(insert_sql, (\"Jane Smith\",))\n",
    "\n",
    "# Commit the changes\n",
    "conn.commit()\n",
    "\n",
    "print(\"2 rows inserted successfully!\")\n",
    "\n",
    "cursor.close()\n",
    "conn.close()\n"
   ]
  },
  {
   "cell_type": "code",
   "execution_count": 5,
   "id": "f4a75ff9",
   "metadata": {},
   "outputs": [
    {
     "name": "stdout",
     "output_type": "stream",
     "text": [
      "Successfully connected to database 'cs673'!\n",
      "Connection closed successfully.\n"
     ]
    }
   ],
   "source": [
    "# Create a reusable connect_to_db() function\n",
    "import psycopg2\n",
    "\n",
    "def connect_to_db(host=\"localhost\", port=5432, database=\"cs673\", user=\"postgres\", password=\"mysecretpassword\"):\n",
    "    \"\"\"\n",
    "    Connect to PostgreSQL database\n",
    "    \n",
    "    Parameters:\n",
    "    host (str): Database host (default: localhost)\n",
    "    port (int): Database port (default: 5432)\n",
    "    database (str): Database name (default: cs673)\n",
    "    user (str): Database user (default: postgres)\n",
    "    password (str): Database password (default: mysecretpassword)\n",
    "    \n",
    "    Returns:\n",
    "    connection: psycopg2 connection object or None if connection fails\n",
    "    \"\"\"\n",
    "    try:\n",
    "        conn = psycopg2.connect(\n",
    "            host=host,\n",
    "            port=port,\n",
    "            database=database,\n",
    "            user=user,\n",
    "            password=password\n",
    "        )\n",
    "        print(f\"Successfully connected to database '{database}'!\")\n",
    "        return conn\n",
    "    except Exception as e:\n",
    "        print(f\"Error connecting to database: {e}\")\n",
    "        return None\n",
    "\n",
    "# Test the function\n",
    "connection = connect_to_db()\n",
    "if connection:\n",
    "    connection.close()\n",
    "    print(\"Connection closed successfully.\")\n"
   ]
  },
  {
   "cell_type": "code",
   "execution_count": 4,
   "id": "fc97a95f",
   "metadata": {},
   "outputs": [
    {
     "name": "stdout",
     "output_type": "stream",
     "text": [
      "Successfully inserted 10 rows of test data!\n"
     ]
    }
   ],
   "source": [
    "# Insert 10 test data rows into the test table\n",
    "import psycopg2\n",
    "\n",
    "conn = psycopg2.connect(\n",
    "    host=\"localhost\",\n",
    "    port=5432,\n",
    "    database=\"cs673\",\n",
    "    user=\"postgres\",\n",
    "    password=\"mysecretpassword\"\n",
    ")\n",
    "\n",
    "cursor = conn.cursor()\n",
    "\n",
    "# Test data for the table\n",
    "test_names = [\n",
    "    \"Alice Johnson\",\n",
    "    \"Bob Wilson\", \n",
    "    \"Carol Brown\",\n",
    "    \"David Miller\",\n",
    "    \"Emma Davis\",\n",
    "    \"Frank Garcia\",\n",
    "    \"Grace Martinez\",\n",
    "    \"Henry Anderson\",\n",
    "    \"Ivy Thompson\",\n",
    "    \"Jack White\"\n",
    "]\n",
    "\n",
    "# Insert multiple rows using executemany for efficiency\n",
    "insert_sql = \"INSERT INTO test (name) VALUES (%s)\"\n",
    "cursor.executemany(insert_sql, [(name,) for name in test_names])\n",
    "\n",
    "# Commit the changes\n",
    "conn.commit()\n",
    "\n",
    "print(f\"Successfully inserted {len(test_names)} rows of test data!\")\n",
    "\n",
    "cursor.close()\n",
    "conn.close()\n"
   ]
  },
  {
   "cell_type": "code",
   "execution_count": null,
   "id": "9795a265",
   "metadata": {},
   "outputs": [],
   "source": [
    "import psycopg2\n",
    "\n",
    "conn = psycopg2.connect(\n",
    "    host=\"localhost\",\n",
    "    port=5432,\n",
    "    database=\"cs673\",\n",
    "    user=\"postgres\",\n",
    "    password=\"mysecretpassword\"\n",
    ")\n",
    "\n",
    "print(\"Connected to the database!\")\n",
    "\n",
    "conn.close()"
   ]
  }
 ],
 "metadata": {
  "kernelspec": {
   "display_name": "base",
   "language": "python",
   "name": "python3"
  },
  "language_info": {
   "codemirror_mode": {
    "name": "ipython",
    "version": 3
   },
   "file_extension": ".py",
   "mimetype": "text/x-python",
   "name": "python",
   "nbconvert_exporter": "python",
   "pygments_lexer": "ipython3",
   "version": "3.13.5"
  }
 },
 "nbformat": 4,
 "nbformat_minor": 5
}
